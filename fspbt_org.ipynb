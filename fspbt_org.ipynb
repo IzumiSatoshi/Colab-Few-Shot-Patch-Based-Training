{
  "nbformat": 4,
  "nbformat_minor": 0,
  "metadata": {
    "colab": {
      "provenance": [],
      "collapsed_sections": [],
      "private_outputs": true,
      "mount_file_id": "1H-f9kwlvWRLtZb_0eqoV596OzhDUkevb",
      "authorship_tag": "ABX9TyMzkLOheDWO/uH1LBKn2NeB",
      "include_colab_link": true
    },
    "kernelspec": {
      "name": "python3",
      "display_name": "Python 3"
    },
    "language_info": {
      "name": "python"
    },
    "gpuClass": "standard",
    "accelerator": "GPU"
  },
  "cells": [
    {
      "cell_type": "markdown",
      "metadata": {
        "id": "view-in-github",
        "colab_type": "text"
      },
      "source": [
        "<a href=\"https://colab.research.google.com/github/IzumiSatoshi/Colab-Few-Shot-Patch-Based-Training/blob/main/fspbt_org.ipynb\" target=\"_parent\"><img src=\"https://colab.research.google.com/assets/colab-badge.svg\" alt=\"Open In Colab\"/></a>"
      ]
    },
    {
      "cell_type": "markdown",
      "source": [
        "# Few-Shot-Patch-Based-Training\n",
        "Please check latest version in github : https://github.com/IzumiSatoshi/Colab-Few-Shot-Patch-Based-Training/blob/main/Readme.md  \n",
        "Just running this repo, so advance reading is recommended :  https://github.com/OndrejTexler/Few-Shot-Patch-Based-Training  \n",
        "And there is cool fork : https://github.com/nicolai256/Few-Shot-Patch-Based-Training\n",
        "You can probably get better result than this notebook.  \n",
        "\n",
        "## You need to prepare these 3 dir in project dir  \n",
        "```\n",
        "projectName/\n",
        "  ┝ processName_gen\n",
        "    └ input_filtered\n",
        "  └ processName_train\n",
        "    ├ input_filtered\n",
        "    └ output\n",
        "```\n",
        "**processName_gen/input_filtered** : Put validation images. It is used to monitor the progress of learning.  \n",
        "**processName_train/input_filtered** : Put original keyframe images.  \n",
        "**processName_train/output** : Put generated keyframe images by stable diffusion's i2i or something.  \n",
        "\n",
        "Note that _train/input_filtered image names correspond to _train/output image names. Also, all images should be the same size."
      ],
      "metadata": {
        "id": "MxNKC1Pll4uU"
      }
    },
    {
      "cell_type": "code",
      "source": [
        "from google.colab import drive\n",
        "drive.mount('/content/drive')"
      ],
      "metadata": {
        "id": "2En6jFxIhWOC"
      },
      "execution_count": null,
      "outputs": []
    },
    {
      "cell_type": "code",
      "execution_count": null,
      "metadata": {
        "id": "yAhr8k7M4iOM"
      },
      "outputs": [],
      "source": [
        "!git clone https://github.com/OndrejTexler/Few-Shot-Patch-Based-Training.git"
      ]
    },
    {
      "cell_type": "code",
      "source": [
        "# You may see some errors but somehow working in my case\n",
        "!pip install numpy==1.19.1\n",
        "!pip install opencv-python==4.4.0.40\n",
        "!pip install Pillow==7.2.0\n",
        "!pip install PyYAML==5.3.1\n",
        "!pip install scikit-image==0.17.2\n",
        "!pip install scipy==1.5.2\n",
        "!pip install tensorflow==1.15.3\n",
        "!pip install torch==1.6.0\n",
        "!pip install torchvision==0.7.0"
      ],
      "metadata": {
        "id": "FyaKXx_4hdak"
      },
      "execution_count": null,
      "outputs": []
    },
    {
      "cell_type": "code",
      "source": [
        "%cd ./Few-Shot-Patch-Based-Training/"
      ],
      "metadata": {
        "id": "IWTfM8_o67jC"
      },
      "execution_count": null,
      "outputs": []
    },
    {
      "cell_type": "code",
      "source": [
        "#@markdown images size\n",
        "height = 512 #@param{type:\"number\"}\n",
        "width = 512 #@param{type:\"number\"}\n",
        "#@markdown project_dir path and processName\n",
        "project_dir = \"/content/drive/MyDrive/tell_your_world/3\" # @param{type:\"string\"}\n",
        "process_name = \"Miku\" # @param{type:\"string\"}"
      ],
      "metadata": {
        "id": "4kTRKVajnchD"
      },
      "execution_count": null,
      "outputs": []
    },
    {
      "cell_type": "code",
      "source": [
        "# create blank masks whitch is needed for training\n",
        "import cv2\n",
        "import numpy as np\n",
        "import os\n",
        "train_dir = f\"{project_dir}/{process_name}_train\"\n",
        "train_input_filtered_dir = f\"{train_dir}/input_filtered\"\n",
        "train_mask_dir = f\"{train_dir}/mask\"\n",
        "train_output_dir = f\"{train_dir}/output\"\n",
        "\n",
        "gen_dir = f\"{project_dir}/{process_name}_gen\"\n",
        "gen_input_filtered_dir = f\"{gen_dir}/input_filtered\"\n",
        "gen_mask_dir = f\"{gen_dir}/mask\"\n",
        "gen_output_dir = f\"{gen_dir}/output\"\n",
        "\n",
        "os.makedirs(train_mask_dir, exist_ok=True)\n",
        "os.makedirs(gen_mask_dir, exist_ok=True)\n",
        "\n",
        "blank = np.zeros((height, width, 3))\n",
        "blank += 255 #white\n",
        "\n",
        "train_input_filtered_list = os.listdir(train_input_filtered_dir)\n",
        "for img in train_input_filtered_list:\n",
        "  mask_img_path = f\"{train_mask_dir}/{img}\"\n",
        "  print(mask_img_path)\n",
        "  cv2.imwrite(mask_img_path, blank)\n",
        "\n",
        "gen_input_filtered_list = os.listdir(gen_input_filtered_dir)\n",
        "for img in gen_input_filtered_list:\n",
        "  mask_img_path = f\"{gen_mask_dir}/{img}\"\n",
        "  print(mask_img_path)\n",
        "  cv2.imwrite(mask_img_path, blank)"
      ],
      "metadata": {
        "id": "pDLdP3gOm_5m"
      },
      "execution_count": null,
      "outputs": []
    },
    {
      "cell_type": "markdown",
      "source": [
        "## training\n",
        "It will take at least 30 min.  \n",
        "Check test result in project/processName_gen/res_p and stop if you satisfied with results.  \n",
        "Your checkpoints will be saved at project/processName_train/logs_reference_P."
      ],
      "metadata": {
        "id": "zuT_wRKk8WXh"
      }
    },
    {
      "cell_type": "code",
      "source": [
        "!python train.py --config \"_config/reference_P.yaml\" --data_root {train_dir} --log_interval 2000 --log_folder logs_reference_P"
      ],
      "metadata": {
        "id": "Y0QwRtHk8uyF"
      },
      "execution_count": null,
      "outputs": []
    },
    {
      "cell_type": "markdown",
      "source": [
        "## Generate whole video frames"
      ],
      "metadata": {
        "id": "PRbPGTSiBxrI"
      }
    },
    {
      "cell_type": "code",
      "source": [
        "pth_path = \"/content/drive/MyDrive/tell_your_world/3/Miku_train/logs_reference_P/model_00043.pth\"#@param{type:\"string\"}\n",
        "output_path = f\"{gen_dir}/whole_video_output\"\n",
        "!python generate.py --checkpoint {pth_path} --data_root {gen_dir} --dir_input whole_video_input --outdir {output_path} --device \"cuda:0\""
      ],
      "metadata": {
        "id": "T_f8cohp_gII"
      },
      "execution_count": null,
      "outputs": []
    }
  ]
}